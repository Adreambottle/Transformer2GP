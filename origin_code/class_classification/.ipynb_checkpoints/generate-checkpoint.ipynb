{
 "cells": [
  {
   "cell_type": "code",
   "execution_count": 2,
   "metadata": {},
   "outputs": [],
   "source": [
    "import re\n",
    "import json\n",
    "import random\n",
    "from tqdm import trange\n",
    "from fractions import Fraction\n",
    "from collections import Counter, defaultdict\n",
    "from typing import Tuple, Dict, Sequence, List, Set"
   ]
  },
  {
   "cell_type": "code",
   "execution_count": 13,
   "metadata": {},
   "outputs": [],
   "source": [
    "def read_data(filename: str):\n",
    "    \"\"\"\n",
    "    filename: the name of a file\n",
    "    returns the data of in the file\n",
    "    \"\"\"\n",
    "    if filename[-5:] == '.json' or filename[-3:] == '.js':\n",
    "        directory = 'formatData/' + filename\n",
    "        with open(directory, 'r', encoding='utf-8') as file:\n",
    "            output = json.loads(file.read())\n",
    "    \n",
    "    elif filename == 'config/pair-params':\n",
    "        directory = 'formatData/' + filename\n",
    "        with open(directory, 'r', encoding='utf-8') as file:\n",
    "            data = file.read().split('\\n\\n')\n",
    "\n",
    "        output = defaultdict()\n",
    "        for pair in data:\n",
    "            pair = pair.replace(' ', '').replace('-', '').replace('(', '').replace(')', '').split('/')\n",
    "            output[pair[0]] = pair[1]\n",
    "   \n",
    "    else:\n",
    "        raise ValueError('The input is not valid.')\n",
    "    return output"
   ]
  },
  {
   "cell_type": "code",
   "execution_count": 20,
   "metadata": {},
   "outputs": [],
   "source": [
    "def generate(item: dict, classname: str) -> dict:\n",
    "    \"\"\"\n",
    "    item: a description\n",
    "    classname: Capacitors or Resistors\n",
    "    \"\"\"\n",
    "    with open('config/config_cap&res_patterns.json','r', encoding='utf-8') as f:\n",
    "        patterns = json.loads(f.read())\n",
    "    \n",
    "    des = []\n",
    "    output = {'description': '', 'labels': [], 'class': classname}\n",
    "    pattern = random.sample(patterns[classname], 1)[0]\n",
    "    \n",
    "    for feature in pattern:\n",
    "        feature = feature.replace(' (User input)', '')\n",
    "        if feature in ['input class', 'SizeCode', 'TemperatureCharacteristicsCode', 'MfrPartNumber']:\n",
    "            if feature == 'input class':\n",
    "                if random.uniform(0, 1) > 0.5:\n",
    "                    value = random.sample(config_class_name[classname], 1)[0]\n",
    "                    output[feature] = value\n",
    "                    output['labels'].append(feature)\n",
    "                    des.append(value)\n",
    "            else:\n",
    "                value = item[feature]\n",
    "                output[feature] = value\n",
    "                output['labels'].append(feature)\n",
    "                des.append(value)\n",
    "            \n",
    "        if feature in ['Capacitance', 'Resistance', 'RatedDCVoltageURdc', 'WorkingVoltage', 'RatedPowerDissipationP']:\n",
    "            numeric = str(random.sample(['1/' + str(random.randint(2, 9)), random.randint(0, 100), round(random.uniform(0, 1), 2)], 1)[0])\n",
    "            value = numeric + random.sample(list(config_dynamic_units[config_field_units[feature]]), 1)[0]\n",
    "            output[feature] = value\n",
    "            output['labels'].append(feature)\n",
    "            des.append(value)\n",
    "            \n",
    "        if feature in ['Tolerance', 'PositiveTolerance', 'NegativeTolerance']:\n",
    "            if random.uniform(0, 1) > 0.5:\n",
    "                value = str(round(random.randint(0, 100), 2)) + '%'\n",
    "            else:\n",
    "                value = str(round(random.uniform(0, 1), 2))\n",
    "            output[feature] = value\n",
    "            output['labels'].append(feature)\n",
    "            des.append(value)\n",
    "                \n",
    "        if feature in ['others']:\n",
    "            if classname == 'Capacitors':\n",
    "                noise_feature = random.sample(['IHSObjectID', 'DielectricMaterial', 'PackingMethod', 'PackageStyle', 'Series'], 1)[0]\n",
    "            if classname == 'Resistors':\n",
    "                noise_feature = random.sample(['IHSObjectID', 'PackingMethod', 'PackageStyle', 'Series', 'Technology'], 1)[0]\n",
    "            noise_value = item[noise_feature]\n",
    "            if noise_value not in des:\n",
    "                output['labels'].append('others')\n",
    "                des.append(noise_value)\n",
    "        \n",
    "    # insert deliminter\n",
    "    deliminter_list = ['#', ',', '/', ';', ':', '-', '_']\n",
    "    deliminter = random.sample(deliminter_list, 1)[0]\n",
    "    for i in range(len(des)):\n",
    "        if des[i] != '':\n",
    "            if random.uniform(0, 1) > 0.7:\n",
    "                des[i] += deliminter\n",
    "            else:\n",
    "                des[i] += random.sample(deliminter_list, 1)[0]\n",
    "    output['description'] = re.sub('(' + '|'.join(deliminter_list) + ')$', '', ''.join(des))\n",
    "    \n",
    "    return output"
   ]
  },
  {
   "cell_type": "code",
   "execution_count": 14,
   "metadata": {},
   "outputs": [],
   "source": [
    "# load config files\n",
    "config_class_name = read_data('config/config-class-name.json')\n",
    "config_dynamic_units = read_data('config/config-dynamic-units.json')\n",
    "config_field_units = {\n",
    "    'Capacitance': 'F',\n",
    "    'Resistance': 'Ω',\n",
    "    'RatedDCVoltageURdc': 'V',\n",
    "    'WorkingVoltage': 'V',\n",
    "    'RatedPowerDissipationP': 'W'\n",
    "}"
   ]
  },
  {
   "cell_type": "code",
   "execution_count": 4,
   "metadata": {},
   "outputs": [],
   "source": [
    "# # read standard data\n",
    "# with open('preprocess/standard_cap.json','r', encoding='utf-8') as f:\n",
    "#     standard_cap = json.loads(f.read())\n",
    "    \n",
    "# with open('preprocess/standard_res.json','r', encoding='utf-8') as f:\n",
    "#     standard_res = json.loads(f.read())"
   ]
  },
  {
   "cell_type": "code",
   "execution_count": 21,
   "metadata": {},
   "outputs": [],
   "source": [
    "# # generate data\n",
    "# cap_data, res_data = [], []\n",
    "# for item in standard_cap[:10]:\n",
    "#     cap_data.append(generate(item, 'Capacitors'))\n",
    "    \n",
    "# for item in standard_res[:10]:\n",
    "#     res_data.append(generate(item, 'Resistors'))"
   ]
  },
  {
   "cell_type": "code",
   "execution_count": null,
   "metadata": {},
   "outputs": [],
   "source": []
  }
 ],
 "metadata": {
  "kernelspec": {
   "display_name": "Python 3",
   "language": "python",
   "name": "python3"
  },
  "language_info": {
   "codemirror_mode": {
    "name": "ipython",
    "version": 3
   },
   "file_extension": ".py",
   "mimetype": "text/x-python",
   "name": "python",
   "nbconvert_exporter": "python",
   "pygments_lexer": "ipython3",
   "version": "3.8.6"
  }
 },
 "nbformat": 4,
 "nbformat_minor": 4
}
