{
 "cells": [
  {
   "cell_type": "code",
   "execution_count": 1,
   "metadata": {},
   "outputs": [],
   "source": [
    "from transformers import AutoTokenizer, AutoModelForSequenceClassification, Trainer,TrainingArguments\n",
    "import torch"
   ]
  },
  {
   "cell_type": "code",
   "execution_count": 2,
   "metadata": {},
   "outputs": [],
   "source": [
    "# To form input object\n",
    "class processDataset(torch.utils.data.Dataset):\n",
    "    def __init__(self, encodings, labels):\n",
    "        self.encodings = encodings\n",
    "        self.labels = labels\n",
    "\n",
    "    def __getitem__(self, idx):\n",
    "        item = {key: torch.tensor(val[idx]) for key, val in self.encodings.items()}\n",
    "        item['labels'] = torch.tensor(self.labels[idx])\n",
    "        return item\n",
    "\n",
    "    def __len__(self):\n",
    "        return len(self.labels)"
   ]
  },
  {
   "cell_type": "code",
   "execution_count": 3,
   "metadata": {},
   "outputs": [],
   "source": [
    "def class_prediction(input:str, model_checkpoint:str) -> str:\n",
    "    '''\n",
    "    input: an input description string\n",
    "    model_checkpoint: the position of the model\n",
    "    returns the predicted class of input description string\n",
    "    '''\n",
    "    # load model\n",
    "    tokenizer = AutoTokenizer.from_pretrained(model_checkpoint)\n",
    "    model = AutoModelForSequenceClassification.from_pretrained(model_checkpoint, num_labels=3)\n",
    "    \n",
    "    # get predicted result\n",
    "    args = TrainingArguments(disable_tqdm=True, output_dir=\"results\")\n",
    "    trainer = Trainer(model=model,tokenizer=tokenizer,args=args)\n",
    "    item = processDataset(tokenizer([input],padding=True,truncation=False),[1])\n",
    "    preds = trainer.predict(item).predictions.argmax(-1)\n",
    "    \n",
    "    # decode the result into hardware class\n",
    "    if preds == 1:\n",
    "        return 'Resistors'\n",
    "    elif preds == 2:\n",
    "        return 'Capacitors'\n",
    "    else:\n",
    "        return 'Others'"
   ]
  },
  {
   "cell_type": "code",
   "execution_count": 4,
   "metadata": {},
   "outputs": [
    {
     "name": "stdout",
     "output_type": "stream",
     "text": [
      "Capacitors\n"
     ]
    }
   ],
   "source": [
    "# call the class prediction function\n",
    "model_checkpoint = './class_prediction_model'\n",
    "input = 'CAP,CHIP CERAMIC 0.2PF 0.1PF C0G/NP0 0402 50V ROHS'\n",
    "result = class_prediction(input, model_checkpoint)\n",
    "print(result)"
   ]
  }
 ],
 "metadata": {
  "kernelspec": {
   "display_name": "sim_transformer",
   "language": "python",
   "name": "sim_transformer"
  },
  "language_info": {
   "codemirror_mode": {
    "name": "ipython",
    "version": 3
   },
   "file_extension": ".py",
   "mimetype": "text/x-python",
   "name": "python",
   "nbconvert_exporter": "python",
   "pygments_lexer": "ipython3",
   "version": "3.7.3"
  }
 },
 "nbformat": 4,
 "nbformat_minor": 4
}
